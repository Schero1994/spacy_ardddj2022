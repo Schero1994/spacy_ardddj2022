{
 "cells": [
  {
   "cell_type": "markdown",
   "id": "72238106",
   "metadata": {},
   "source": [
    "## 01 Einführung der Grundlagen von spaCy\n",
    "In diesem Notebook werden die Grundkonzepte von spaCy erklärt. Einige Inhalte sind Ausschnitte vom kostenlosen [spaCy Online Kurs](https://course.spacy.io/de)."
   ]
  },
  {
   "cell_type": "markdown",
   "id": "b82dd22c",
   "metadata": {},
   "source": [
    "## Das NLP-Objekt\n",
    "\n",
    "Im Zentrum von spaCy steht das Objekt, das die Verarbeitungspipeline enthält. Wir nennen diese Variable typischerweise \"nlp\".\n",
    "\n",
    "Um beispielsweise ein deutschsprachiges nlp-Objekt zu erstellen, kannst du spacy importieren und die Methode spacy.blank nutzen, um eine leere deutsche Pipeline zu erstellen. Du kannst das nlp-Objekt wie eine Funktion benutzen und damit Text analysieren.\n",
    "\n",
    "Es enthält alle verschiedenen Komponenten der Pipeline.\n",
    "\n",
    "Es beinhaltet außerdem sprachspezifische Regeln, um den Text in Wörter und Satzzeichen zu tokenisieren. spaCy unterstützt eine Vielzahl an Sprachen.\n",
    "\n",
    "[Mehr in den spaCy Docs](https://spacy.io/api/language)"
   ]
  },
  {
   "cell_type": "code",
   "execution_count": 4,
   "id": "0bdef40e",
   "metadata": {},
   "outputs": [],
   "source": [
    "# Importiere spaCy\n",
    "import spacy\n",
    "\n",
    "# Erstelle ein leeres deutsches nlp-Objekt\n",
    "nlp = spacy.blank(\"de\")"
   ]
  },
  {
   "cell_type": "markdown",
   "id": "701f6126",
   "metadata": {},
   "source": [
    "## Das Doc-Objekt\n",
    "\n",
    "Wenn du einen Text mit dem nlp-Objekt verarbeitest, erstellt spaCy ein Doc-Objekt, kurz für \"document\". Über das Doc kannst du in strukturierter Weise auf Informationen über den Text zugreifen, und keine Information geht verloren.\n",
    "\n",
    "Das Doc verhält sich übrigens wie eine normale Python-Sequenz und du kannst über seine Tokens iterieren, oder auf einen Token über seinen Index zugreifen. Aber dazu später mehr!\n",
    "\n",
    "[Mehr in den spaCy Docs](https://spacy.io/api/doc)"
   ]
  },
  {
   "cell_type": "code",
   "execution_count": 8,
   "id": "465752ac",
   "metadata": {},
   "outputs": [
    {
     "name": "stdout",
     "output_type": "stream",
     "text": [
      "Hallo\n",
      "Welt\n",
      "!\n"
     ]
    }
   ],
   "source": [
    "# Erstellt durch Verarbeitung eines Strings mit dem nlp-Objekt\n",
    "doc = nlp(\"Hallo Welt!\")\n",
    "\n",
    "# Iteriere über Tokens in einem Doc\n",
    "for token in doc:\n",
    "    print(token.text)"
   ]
  },
  {
   "cell_type": "markdown",
   "id": "650523f4",
   "metadata": {},
   "source": [
    "## Das Token-Objekt\n",
    "\n",
    "Token-Objekte repräsentieren die Tokens in einem Dokument – zum Beispiel ein Wort oder ein Satzzeichen.\n",
    "\n",
    "Um einen Token an einer bestimmten Position zu erhalten, kannst du wie bei einer Liste auf seinen Index im Doc zugreifen.\n",
    "\n",
    "Token-Objekte haben außerdem verschiedene Attribute, die mehr Informationen über die Tokens zur Verfügung stellen. Das Attribut .text zum Beispiel gibt den wortwörtlichen Text des Tokens zurück.\n",
    "\n",
    "[Mehr in den spaCy Docs](https://spacy.io/api/token)"
   ]
  },
  {
   "cell_type": "code",
   "execution_count": 6,
   "id": "ea35ecfb",
   "metadata": {},
   "outputs": [
    {
     "name": "stdout",
     "output_type": "stream",
     "text": [
      "Welt\n"
     ]
    }
   ],
   "source": [
    "# Greife auf einen Token über seinen Index im Doc zu\n",
    "token = doc[1]\n",
    "\n",
    "# Erhalte den Text des Tokens über das Attribut .text\n",
    "print(token.text)"
   ]
  },
  {
   "cell_type": "markdown",
   "id": "07e23b57",
   "metadata": {},
   "source": [
    "## Das Span-Objekt\n",
    "\n",
    "Ein Span-Objekt, das aus einem oder mehreren Tokens besteht, ist ein Abschnitt des Dokuments. Es ist lediglich eine Ansicht des Doc-Objekts und enthält selbst keine Daten.\n",
    "\n",
    "Um eine Span zu erstellen, kannst du Pythons Slice-Notation verwenden. 1:3 zum Beispiel erstellt eine Span ab dem Token an Position 1, bis zu – aber nicht einschließlich! - dem Token an Position 3.\n",
    "\n",
    "[Mehr in den spaCy Docs](https://spacy.io/api/span)"
   ]
  },
  {
   "cell_type": "code",
   "execution_count": 7,
   "id": "b61e5399",
   "metadata": {},
   "outputs": [
    {
     "name": "stdout",
     "output_type": "stream",
     "text": [
      "Welt!\n"
     ]
    }
   ],
   "source": [
    "# Ein Abschnitt des Doc-Objekts ist ein Span-Objekt\n",
    "span = doc[1:3]\n",
    "\n",
    "# Erhalte den Text der Span über das Attribut .text\n",
    "print(span.text)"
   ]
  }
 ],
 "metadata": {
  "kernelspec": {
   "display_name": "Python 3 (ipykernel)",
   "language": "python",
   "name": "python3"
  },
  "language_info": {
   "codemirror_mode": {
    "name": "ipython",
    "version": 3
   },
   "file_extension": ".py",
   "mimetype": "text/x-python",
   "name": "python",
   "nbconvert_exporter": "python",
   "pygments_lexer": "ipython3",
   "version": "3.9.2"
  }
 },
 "nbformat": 4,
 "nbformat_minor": 5
}
